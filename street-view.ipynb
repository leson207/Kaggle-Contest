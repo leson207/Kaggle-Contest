{
 "cells": [
  {
   "cell_type": "code",
   "execution_count": 1,
   "id": "60317a79",
   "metadata": {
    "execution": {
     "iopub.execute_input": "2023-12-19T13:52:41.208157Z",
     "iopub.status.busy": "2023-12-19T13:52:41.207260Z",
     "iopub.status.idle": "2023-12-19T13:52:44.494878Z",
     "shell.execute_reply": "2023-12-19T13:52:44.493585Z"
    },
    "papermill": {
     "duration": 3.296164,
     "end_time": "2023-12-19T13:52:44.497380",
     "exception": false,
     "start_time": "2023-12-19T13:52:41.201216",
     "status": "completed"
    },
    "tags": []
   },
   "outputs": [],
   "source": [
    "%%capture\n",
    "# !unzip '/kaggle/input/street-view-getting-started-with-julia/train.zip'\n",
    "# !unzip '/kaggle/input/street-view-getting-started-with-julia/test.zip'\n",
    "\n",
    "!unzip '/kaggle/input/street-view-getting-started-with-julia/trainResized.zip'\n",
    "!unzip '/kaggle/input/street-view-getting-started-with-julia/testResized.zip'"
   ]
  },
  {
   "cell_type": "code",
   "execution_count": 2,
   "id": "870200f4",
   "metadata": {
    "_cell_guid": "b1076dfc-b9ad-4769-8c92-a6c4dae69d19",
    "_uuid": "8f2839f25d086af736a60e9eeb907d3b93b6e0e5",
    "execution": {
     "iopub.execute_input": "2023-12-19T13:52:44.507429Z",
     "iopub.status.busy": "2023-12-19T13:52:44.506761Z",
     "iopub.status.idle": "2023-12-19T13:52:57.470066Z",
     "shell.execute_reply": "2023-12-19T13:52:57.469245Z"
    },
    "papermill": {
     "duration": 12.970576,
     "end_time": "2023-12-19T13:52:57.472289",
     "exception": false,
     "start_time": "2023-12-19T13:52:44.501713",
     "status": "completed"
    },
    "tags": []
   },
   "outputs": [
    {
     "name": "stderr",
     "output_type": "stream",
     "text": [
      "/opt/conda/lib/python3.10/site-packages/scipy/__init__.py:146: UserWarning: A NumPy version >=1.16.5 and <1.23.0 is required for this version of SciPy (detected version 1.24.3\n",
      "  warnings.warn(f\"A NumPy version >={np_minversion} and <{np_maxversion}\"\n"
     ]
    }
   ],
   "source": [
    "import gc\n",
    "import numpy as np\n",
    "import pandas as pd\n",
    "import matplotlib.pyplot as plt\n",
    "\n",
    "import tensorflow as tf\n",
    "from tensorflow.keras.optimizers import Adam\n",
    "from tensorflow.keras.regularizers import L1,L2\n",
    "from tensorflow.keras.losses import SparseCategoricalCrossentropy\n",
    "from tensorflow.keras.optimizers.schedules import ExponentialDecay\n",
    "from tensorflow.keras.callbacks import EarlyStopping,ReduceLROnPlateau\n",
    "from tensorflow.keras.layers import Conv2D,Dense,BatchNormalization,Dropout,Flatten,MaxPool2D\n",
    "\n",
    "\n",
    "from sklearn.model_selection import train_test_split"
   ]
  },
  {
   "cell_type": "code",
   "execution_count": 3,
   "id": "6755a1f7",
   "metadata": {
    "execution": {
     "iopub.execute_input": "2023-12-19T13:52:57.481913Z",
     "iopub.status.busy": "2023-12-19T13:52:57.481154Z",
     "iopub.status.idle": "2023-12-19T13:53:01.563107Z",
     "shell.execute_reply": "2023-12-19T13:53:01.561989Z"
    },
    "papermill": {
     "duration": 4.088907,
     "end_time": "2023-12-19T13:53:01.565346",
     "exception": false,
     "start_time": "2023-12-19T13:52:57.476439",
     "status": "completed"
    },
    "tags": []
   },
   "outputs": [
    {
     "name": "stdout",
     "output_type": "stream",
     "text": [
      "Number of train image:  6283\n",
      "Number of test image:  6220\n"
     ]
    }
   ],
   "source": [
    "import os\n",
    "from PIL import Image\n",
    "from skimage.io import imread\n",
    "\n",
    "def read_image(folder_path):\n",
    "    image_list = []\n",
    "    files = os.listdir(folder_path)\n",
    "    files = sorted(files, key=lambda x: int(x[:-4]))\n",
    "    for filename in files:\n",
    "        file_path = os.path.join(folder_path, filename)\n",
    "        image = imread(file_path)\n",
    "        if len(image.shape)==2:\n",
    "            image=np.repeat(image[:, :, np.newaxis], 3, axis=2)\n",
    "        image_list.append(image)\n",
    "    return image_list\n",
    "\n",
    "train_image=read_image('/kaggle/working/trainResized')\n",
    "test_image=read_image('/kaggle/working/testResized')\n",
    "\n",
    "# train_image=read_image('/kaggle/working/train')\n",
    "# test_image=read_image('/kaggle/working/test')\n",
    "print('Number of train image: ',len(train_image))\n",
    "print('Number of test image: ',len(test_image))"
   ]
  },
  {
   "cell_type": "code",
   "execution_count": 4,
   "id": "996c3a9d",
   "metadata": {
    "execution": {
     "iopub.execute_input": "2023-12-19T13:53:01.575680Z",
     "iopub.status.busy": "2023-12-19T13:53:01.574915Z",
     "iopub.status.idle": "2023-12-19T13:53:01.761658Z",
     "shell.execute_reply": "2023-12-19T13:53:01.760742Z"
    },
    "papermill": {
     "duration": 0.193995,
     "end_time": "2023-12-19T13:53:01.764026",
     "exception": false,
     "start_time": "2023-12-19T13:53:01.570031",
     "status": "completed"
    },
    "tags": []
   },
   "outputs": [],
   "source": [
    "from skimage.transform import resize\n",
    "\n",
    "new_shape=(20,20)\n",
    "# using pillow\n",
    "# train_image=[image.resize(new_shape) for image in train_image]\n",
    "# test_image=[image.resize(new_shape) for image in test_image]\n",
    "# using skimage\n",
    "# train_image=[resize(image,new_shape) for image in train_image]\n",
    "# test_image=[resize(image,new_shape) for image in test_image]\n",
    "\n",
    "train_image=np.asarray(train_image,dtype=np.float32)\n",
    "test_image=np.asarray(test_image,dtype=np.float32)"
   ]
  },
  {
   "cell_type": "code",
   "execution_count": 5,
   "id": "1ad18b20",
   "metadata": {
    "execution": {
     "iopub.execute_input": "2023-12-19T13:53:01.773835Z",
     "iopub.status.busy": "2023-12-19T13:53:01.773456Z",
     "iopub.status.idle": "2023-12-19T13:53:01.779603Z",
     "shell.execute_reply": "2023-12-19T13:53:01.778846Z"
    },
    "papermill": {
     "duration": 0.01334,
     "end_time": "2023-12-19T13:53:01.781654",
     "exception": false,
     "start_time": "2023-12-19T13:53:01.768314",
     "status": "completed"
    },
    "tags": []
   },
   "outputs": [],
   "source": [
    "# data augmentaion\n",
    "from tensorflow.keras.preprocessing.image import ImageDataGenerator\n",
    "\n",
    "data_generator=ImageDataGenerator(\n",
    "    zoom_range = 0.2,\n",
    "    rescale = 1./255,\n",
    "    rotation_range = 5.0,\n",
    "    shear_range = 3.0,\n",
    "    brightness_range = [0.0, 3.0]\n",
    ")"
   ]
  },
  {
   "cell_type": "code",
   "execution_count": 6,
   "id": "0c6af1f7",
   "metadata": {
    "execution": {
     "iopub.execute_input": "2023-12-19T13:53:01.790904Z",
     "iopub.status.busy": "2023-12-19T13:53:01.790617Z",
     "iopub.status.idle": "2023-12-19T13:53:01.833680Z",
     "shell.execute_reply": "2023-12-19T13:53:01.832536Z"
    },
    "papermill": {
     "duration": 0.050193,
     "end_time": "2023-12-19T13:53:01.835821",
     "exception": false,
     "start_time": "2023-12-19T13:53:01.785628",
     "status": "completed"
    },
    "tags": []
   },
   "outputs": [
    {
     "name": "stdout",
     "output_type": "stream",
     "text": [
      "Number of label:  62\n"
     ]
    }
   ],
   "source": [
    "label=pd.read_csv('/kaggle/input/street-view-getting-started-with-julia/trainLabels.csv')\n",
    "unique_label=np.sort(label['Class'].unique())\n",
    "print('Number of label: ',len(unique_label))\n",
    "label_to_id={}\n",
    "for i in range(len(unique_label)):\n",
    "    label_to_id[unique_label[i]]=i\n",
    "\n",
    "ids_lable=np.asarray([label_to_id[i] for i in label['Class'].values],dtype=np.float32)\n",
    "train_image,val_image,train_label,val_label=train_test_split(train_image,ids_lable,train_size=0.9,shuffle=True)"
   ]
  },
  {
   "cell_type": "code",
   "execution_count": 7,
   "id": "74fc5580",
   "metadata": {
    "execution": {
     "iopub.execute_input": "2023-12-19T13:53:01.845842Z",
     "iopub.status.busy": "2023-12-19T13:53:01.845518Z",
     "iopub.status.idle": "2023-12-19T13:53:05.470978Z",
     "shell.execute_reply": "2023-12-19T13:53:05.469921Z"
    },
    "papermill": {
     "duration": 3.633154,
     "end_time": "2023-12-19T13:53:05.473310",
     "exception": false,
     "start_time": "2023-12-19T13:53:01.840156",
     "status": "completed"
    },
    "tags": []
   },
   "outputs": [],
   "source": [
    "model = tf.keras.models.Sequential([\n",
    "    BatchNormalization(),\n",
    "    tf.keras.layers.Conv2D(32, (3,3),padding='same', activation = \"gelu\"),\n",
    "    tf.keras.layers.Dropout(0.1),\n",
    "    tf.keras.layers.Conv2D(64, (3,3),padding='same', activation = \"gelu\"),\n",
    "    tf.keras.layers.MaxPool2D(2,2),\n",
    "    BatchNormalization(),\n",
    "    tf.keras.layers.Dropout(0.1),\n",
    "    \n",
    "    tf.keras.layers.Conv2D(128, (3,3),padding='same', activation = \"gelu\"),\n",
    "#     tf.keras.layers.MaxPool2D(2,1),\n",
    "    tf.keras.layers.Dropout(0.1),\n",
    "    \n",
    "    tf.keras.layers.Conv2D(128, (3,3),padding='same', activation = \"gelu\"),\n",
    "    tf.keras.layers.MaxPool2D(2,2),\n",
    "    \n",
    "    BatchNormalization(),\n",
    "    tf.keras.layers.Flatten(),\n",
    "    tf.keras.layers.Dropout(0.3),\n",
    "    \n",
    "    tf.keras.layers.Dense(432, activation = \"gelu\"),\n",
    "    BatchNormalization(),\n",
    "    Dropout(0.2),\n",
    "    tf.keras.layers.Dense(62, activation='softmax')\n",
    "])"
   ]
  },
  {
   "cell_type": "code",
   "execution_count": 8,
   "id": "3f458e9d",
   "metadata": {
    "execution": {
     "iopub.execute_input": "2023-12-19T13:53:05.483114Z",
     "iopub.status.busy": "2023-12-19T13:53:05.482798Z",
     "iopub.status.idle": "2023-12-19T13:53:05.488088Z",
     "shell.execute_reply": "2023-12-19T13:53:05.487274Z"
    },
    "papermill": {
     "duration": 0.012266,
     "end_time": "2023-12-19T13:53:05.489973",
     "exception": false,
     "start_time": "2023-12-19T13:53:05.477707",
     "status": "completed"
    },
    "tags": []
   },
   "outputs": [],
   "source": [
    "early_stopping=EarlyStopping(\n",
    "    monitor='val_loss',\n",
    "    min_delta=0.001,\n",
    "    patience=15,\n",
    "    restore_best_weights=True)\n",
    "\n",
    "lr_schedule=ExponentialDecay(\n",
    "    initial_learning_rate=1e-3,\n",
    "    decay_steps=100,\n",
    "    decay_rate=0.9,\n",
    "    staircase=True\n",
    ")\n",
    "lr_reduce=ReduceLROnPlateau(\n",
    "    monitor='val_loss',\n",
    "    factor=0.7,\n",
    "    min_delta=0.001,\n",
    "    patience=10,\n",
    "    min_lr=1e-8,\n",
    "    verbose=1)"
   ]
  },
  {
   "cell_type": "code",
   "execution_count": 9,
   "id": "db0aea12",
   "metadata": {
    "execution": {
     "iopub.execute_input": "2023-12-19T13:53:05.499118Z",
     "iopub.status.busy": "2023-12-19T13:53:05.498834Z",
     "iopub.status.idle": "2023-12-19T13:55:15.412745Z",
     "shell.execute_reply": "2023-12-19T13:55:15.411814Z"
    },
    "papermill": {
     "duration": 129.92087,
     "end_time": "2023-12-19T13:55:15.414872",
     "exception": false,
     "start_time": "2023-12-19T13:53:05.494002",
     "status": "completed"
    },
    "tags": []
   },
   "outputs": [
    {
     "name": "stdout",
     "output_type": "stream",
     "text": [
      "Epoch 1/75\n"
     ]
    },
    {
     "name": "stderr",
     "output_type": "stream",
     "text": [
      "2023-12-19 13:53:13.142696: E tensorflow/core/grappler/optimizers/meta_optimizer.cc:954] layout failed: INVALID_ARGUMENT: Size of values 0 does not match size of permutation 4 @ fanin shape insequential/dropout/dropout/SelectV2-2-TransposeNHWCToNCHW-LayoutOptimizer\n"
     ]
    },
    {
     "name": "stdout",
     "output_type": "stream",
     "text": [
      "177/177 [==============================] - 12s 30ms/step - loss: 4.1721 - accuracy: 0.1021 - val_loss: 129.6013 - val_accuracy: 0.0302 - lr: 9.0000e-04\n",
      "Epoch 2/75\n",
      "177/177 [==============================] - 4s 25ms/step - loss: 2.5983 - accuracy: 0.3773 - val_loss: 229.0060 - val_accuracy: 0.1049 - lr: 7.2900e-04\n",
      "Epoch 3/75\n",
      "177/177 [==============================] - 4s 25ms/step - loss: 1.8431 - accuracy: 0.5302 - val_loss: 126.3966 - val_accuracy: 0.1701 - lr: 5.9049e-04\n",
      "Epoch 4/75\n",
      "177/177 [==============================] - 4s 25ms/step - loss: 1.5036 - accuracy: 0.6130 - val_loss: 67.2948 - val_accuracy: 0.3323 - lr: 4.7830e-04\n",
      "Epoch 5/75\n",
      "177/177 [==============================] - 4s 25ms/step - loss: 1.3186 - accuracy: 0.6454 - val_loss: 35.6977 - val_accuracy: 0.4626 - lr: 4.3047e-04\n",
      "Epoch 6/75\n",
      "177/177 [==============================] - 4s 25ms/step - loss: 1.1856 - accuracy: 0.6836 - val_loss: 37.4112 - val_accuracy: 0.3911 - lr: 3.4868e-04\n",
      "Epoch 7/75\n",
      "177/177 [==============================] - 5s 26ms/step - loss: 1.0631 - accuracy: 0.7039 - val_loss: 33.2728 - val_accuracy: 0.4261 - lr: 2.8243e-04\n",
      "Epoch 8/75\n",
      "177/177 [==============================] - 4s 25ms/step - loss: 0.9812 - accuracy: 0.7370 - val_loss: 35.0434 - val_accuracy: 0.3672 - lr: 2.2877e-04\n",
      "Epoch 9/75\n",
      "177/177 [==============================] - 4s 25ms/step - loss: 0.9253 - accuracy: 0.7425 - val_loss: 38.4128 - val_accuracy: 0.3672 - lr: 2.0589e-04\n",
      "Epoch 10/75\n",
      "177/177 [==============================] - 4s 25ms/step - loss: 0.8611 - accuracy: 0.7522 - val_loss: 29.7263 - val_accuracy: 0.3975 - lr: 1.6677e-04\n",
      "Epoch 11/75\n",
      "177/177 [==============================] - 4s 25ms/step - loss: 0.8239 - accuracy: 0.7734 - val_loss: 28.8231 - val_accuracy: 0.3975 - lr: 1.3509e-04\n",
      "Epoch 12/75\n",
      "177/177 [==============================] - 4s 25ms/step - loss: 0.7956 - accuracy: 0.7817 - val_loss: 28.8765 - val_accuracy: 0.4308 - lr: 1.0942e-04\n",
      "Epoch 13/75\n",
      "177/177 [==============================] - 5s 26ms/step - loss: 0.7703 - accuracy: 0.7876 - val_loss: 29.4292 - val_accuracy: 0.4277 - lr: 8.8629e-05\n",
      "Epoch 14/75\n",
      "177/177 [==============================] - 5s 25ms/step - loss: 0.7417 - accuracy: 0.7927 - val_loss: 29.9262 - val_accuracy: 0.4229 - lr: 7.9766e-05\n",
      "Epoch 15/75\n",
      "177/177 [==============================] - 5s 25ms/step - loss: 0.7491 - accuracy: 0.7959 - val_loss: 31.1718 - val_accuracy: 0.4006 - lr: 6.4611e-05\n",
      "Epoch 16/75\n",
      "177/177 [==============================] - 4s 25ms/step - loss: 0.7190 - accuracy: 0.8024 - val_loss: 30.6025 - val_accuracy: 0.4277 - lr: 5.2335e-05\n",
      "Epoch 17/75\n",
      "177/177 [==============================] - 4s 25ms/step - loss: 0.7025 - accuracy: 0.8037 - val_loss: 30.8461 - val_accuracy: 0.4261 - lr: 4.2391e-05\n",
      "Epoch 18/75\n",
      "177/177 [==============================] - 4s 25ms/step - loss: 0.7201 - accuracy: 0.8040 - val_loss: 30.2897 - val_accuracy: 0.4086 - lr: 3.8152e-05\n",
      "Epoch 19/75\n",
      "177/177 [==============================] - 4s 25ms/step - loss: 0.6828 - accuracy: 0.8115 - val_loss: 29.5882 - val_accuracy: 0.4165 - lr: 3.0903e-05\n",
      "Epoch 20/75\n",
      "177/177 [==============================] - 5s 26ms/step - loss: 0.6731 - accuracy: 0.8182 - val_loss: 30.3000 - val_accuracy: 0.4070 - lr: 2.5032e-05\n",
      "Epoch 21/75\n",
      "176/177 [============================>.] - ETA: 0s - loss: 0.6802 - accuracy: 0.8115\n",
      "Epoch 21: ReduceLROnPlateau reducing learning rate to 1.4192879280017222e-05.\n",
      "177/177 [==============================] - 5s 27ms/step - loss: 0.6802 - accuracy: 0.8111 - val_loss: 30.2266 - val_accuracy: 0.4022 - lr: 2.0276e-05\n",
      "Epoch 22/75\n",
      "177/177 [==============================] - 5s 25ms/step - loss: 0.6796 - accuracy: 0.8129 - val_loss: 30.4698 - val_accuracy: 0.4086 - lr: 1.8248e-05\n",
      "Epoch 23/75\n",
      "177/177 [==============================] - 4s 25ms/step - loss: 0.6597 - accuracy: 0.8118 - val_loss: 30.0847 - val_accuracy: 0.4102 - lr: 1.4781e-05\n",
      "Epoch 24/75\n",
      "177/177 [==============================] - 4s 25ms/step - loss: 0.6387 - accuracy: 0.8258 - val_loss: 30.1775 - val_accuracy: 0.4102 - lr: 1.1973e-05\n",
      "Epoch 25/75\n",
      "177/177 [==============================] - 4s 25ms/step - loss: 0.6520 - accuracy: 0.8162 - val_loss: 29.2528 - val_accuracy: 0.4213 - lr: 9.6977e-06\n",
      "Epoch 26/75\n",
      "177/177 [==============================] - 5s 26ms/step - loss: 0.6459 - accuracy: 0.8283 - val_loss: 29.9824 - val_accuracy: 0.4086 - lr: 7.8552e-06\n"
     ]
    },
    {
     "data": {
      "text/plain": [
       "<keras.src.callbacks.History at 0x7f484b5ed930>"
      ]
     },
     "execution_count": 9,
     "metadata": {},
     "output_type": "execute_result"
    }
   ],
   "source": [
    "# training\n",
    "optimizer=Adam(learning_rate=lr_schedule,beta_1=0.9, beta_2=0.98,epsilon=1e-9)\n",
    "model.compile(optimizer=optimizer,loss='sparse_categorical_crossentropy',metrics=['accuracy'])\n",
    "model.fit(data_generator.flow(train_image,train_label,batch_size=32),\n",
    "        validation_data=(val_image,val_label),\n",
    "         callbacks=[early_stopping,lr_reduce],\n",
    "         epochs=75)"
   ]
  },
  {
   "cell_type": "code",
   "execution_count": 10,
   "id": "f31098af",
   "metadata": {
    "execution": {
     "iopub.execute_input": "2023-12-19T13:55:15.727762Z",
     "iopub.status.busy": "2023-12-19T13:55:15.727122Z",
     "iopub.status.idle": "2023-12-19T13:55:37.046391Z",
     "shell.execute_reply": "2023-12-19T13:55:37.045332Z"
    },
    "papermill": {
     "duration": 21.480544,
     "end_time": "2023-12-19T13:55:37.048397",
     "exception": false,
     "start_time": "2023-12-19T13:55:15.567853",
     "status": "completed"
    },
    "tags": []
   },
   "outputs": [
    {
     "name": "stdout",
     "output_type": "stream",
     "text": [
      "Epoch 1/75\n"
     ]
    },
    {
     "name": "stderr",
     "output_type": "stream",
     "text": [
      "2023-12-19 13:55:17.614877: E tensorflow/core/grappler/optimizers/meta_optimizer.cc:954] layout failed: INVALID_ARGUMENT: Size of values 0 does not match size of permutation 4 @ fanin shape insequential/dropout/dropout/SelectV2-2-TransposeNHWCToNCHW-LayoutOptimizer\n"
     ]
    },
    {
     "name": "stdout",
     "output_type": "stream",
     "text": [
      "23/23 [==============================] - 6s 51ms/step - loss: 0.4442 - accuracy: 0.8723 - val_loss: 1.2119 - val_accuracy: 0.6884 - lr: 0.0010\n",
      "Epoch 2/75\n",
      "23/23 [==============================] - 1s 32ms/step - loss: 0.2898 - accuracy: 0.9165 - val_loss: 1.0321 - val_accuracy: 0.7409 - lr: 0.0010\n",
      "Epoch 3/75\n",
      "23/23 [==============================] - 1s 32ms/step - loss: 0.2097 - accuracy: 0.9427 - val_loss: 0.9694 - val_accuracy: 0.7520 - lr: 0.0010\n",
      "Epoch 4/75\n",
      "23/23 [==============================] - 1s 33ms/step - loss: 0.1581 - accuracy: 0.9591 - val_loss: 0.9489 - val_accuracy: 0.7599 - lr: 0.0010\n",
      "Epoch 5/75\n",
      "23/23 [==============================] - 1s 32ms/step - loss: 0.1180 - accuracy: 0.9719 - val_loss: 0.9573 - val_accuracy: 0.7456 - lr: 9.0000e-04\n",
      "Epoch 6/75\n",
      "23/23 [==============================] - 1s 32ms/step - loss: 0.1057 - accuracy: 0.9719 - val_loss: 0.9589 - val_accuracy: 0.7583 - lr: 9.0000e-04\n",
      "Epoch 7/75\n",
      "23/23 [==============================] - 1s 32ms/step - loss: 0.0934 - accuracy: 0.9784 - val_loss: 0.9394 - val_accuracy: 0.7599 - lr: 9.0000e-04\n",
      "Epoch 8/75\n",
      "23/23 [==============================] - 1s 32ms/step - loss: 0.0838 - accuracy: 0.9807 - val_loss: 0.9492 - val_accuracy: 0.7583 - lr: 9.0000e-04\n",
      "Epoch 9/75\n",
      "23/23 [==============================] - 1s 32ms/step - loss: 0.0812 - accuracy: 0.9811 - val_loss: 0.9601 - val_accuracy: 0.7568 - lr: 8.1000e-04\n",
      "Epoch 10/75\n",
      "23/23 [==============================] - 1s 32ms/step - loss: 0.0634 - accuracy: 0.9867 - val_loss: 0.9673 - val_accuracy: 0.7742 - lr: 8.1000e-04\n",
      "Epoch 11/75\n",
      "23/23 [==============================] - 1s 32ms/step - loss: 0.0444 - accuracy: 0.9922 - val_loss: 0.9641 - val_accuracy: 0.7758 - lr: 8.1000e-04\n",
      "Epoch 12/75\n",
      "23/23 [==============================] - 1s 32ms/step - loss: 0.0411 - accuracy: 0.9924 - val_loss: 1.0408 - val_accuracy: 0.7790 - lr: 8.1000e-04\n",
      "Epoch 13/75\n",
      "23/23 [==============================] - 1s 32ms/step - loss: 0.0464 - accuracy: 0.9892 - val_loss: 0.9911 - val_accuracy: 0.7695 - lr: 8.1000e-04\n",
      "Epoch 14/75\n",
      "23/23 [==============================] - 1s 32ms/step - loss: 0.0381 - accuracy: 0.9913 - val_loss: 1.0378 - val_accuracy: 0.7822 - lr: 7.2900e-04\n",
      "Epoch 15/75\n",
      "23/23 [==============================] - 1s 32ms/step - loss: 0.0320 - accuracy: 0.9952 - val_loss: 1.0243 - val_accuracy: 0.7695 - lr: 7.2900e-04\n",
      "Epoch 16/75\n",
      "23/23 [==============================] - 1s 32ms/step - loss: 0.0349 - accuracy: 0.9924 - val_loss: 1.0392 - val_accuracy: 0.7663 - lr: 7.2900e-04\n",
      "Epoch 17/75\n",
      "21/23 [==========================>...] - ETA: 0s - loss: 0.0266 - accuracy: 0.9952\n",
      "Epoch 17: ReduceLROnPlateau reducing learning rate to 0.000510300014866516.\n",
      "23/23 [==============================] - 1s 32ms/step - loss: 0.0264 - accuracy: 0.9952 - val_loss: 1.0535 - val_accuracy: 0.7758 - lr: 7.2900e-04\n",
      "Epoch 18/75\n",
      "23/23 [==============================] - 1s 32ms/step - loss: 0.0214 - accuracy: 0.9972 - val_loss: 1.0992 - val_accuracy: 0.7599 - lr: 6.5610e-04\n",
      "Epoch 19/75\n",
      "23/23 [==============================] - 1s 32ms/step - loss: 0.0208 - accuracy: 0.9961 - val_loss: 1.0523 - val_accuracy: 0.7663 - lr: 6.5610e-04\n",
      "Epoch 20/75\n",
      "23/23 [==============================] - 1s 32ms/step - loss: 0.0276 - accuracy: 0.9945 - val_loss: 1.0911 - val_accuracy: 0.7599 - lr: 6.5610e-04\n",
      "Epoch 21/75\n",
      "23/23 [==============================] - 1s 32ms/step - loss: 0.0196 - accuracy: 0.9961 - val_loss: 1.0813 - val_accuracy: 0.7854 - lr: 6.5610e-04\n",
      "Epoch 22/75\n",
      "23/23 [==============================] - 1s 33ms/step - loss: 0.0174 - accuracy: 0.9968 - val_loss: 1.0958 - val_accuracy: 0.7679 - lr: 5.9049e-04\n"
     ]
    },
    {
     "data": {
      "text/plain": [
       "<keras.src.callbacks.History at 0x7f484af44160>"
      ]
     },
     "execution_count": 10,
     "metadata": {},
     "output_type": "execute_result"
    }
   ],
   "source": [
    "# training\n",
    "optimizer=Adam(learning_rate=lr_schedule,beta_1=0.9, beta_2=0.98,epsilon=1e-9)\n",
    "model.compile(optimizer=optimizer,loss='sparse_categorical_crossentropy',metrics=['accuracy'])\n",
    "model.fit(train_image,train_label,batch_size=256,\n",
    "        validation_data=(val_image,val_label),\n",
    "         callbacks=[early_stopping,lr_reduce],\n",
    "         epochs=75)"
   ]
  },
  {
   "cell_type": "code",
   "execution_count": 11,
   "id": "53b9e0bf",
   "metadata": {
    "execution": {
     "iopub.execute_input": "2023-12-19T13:55:37.417085Z",
     "iopub.status.busy": "2023-12-19T13:55:37.416736Z",
     "iopub.status.idle": "2023-12-19T13:55:38.382242Z",
     "shell.execute_reply": "2023-12-19T13:55:38.381210Z"
    },
    "papermill": {
     "duration": 1.149936,
     "end_time": "2023-12-19T13:55:38.384782",
     "exception": false,
     "start_time": "2023-12-19T13:55:37.234846",
     "status": "completed"
    },
    "tags": []
   },
   "outputs": [
    {
     "name": "stdout",
     "output_type": "stream",
     "text": [
      "195/195 [==============================] - 1s 3ms/step\n"
     ]
    }
   ],
   "source": [
    "#write output to csv\n",
    "pred=model.predict(test_image)\n",
    "pred_label=list(map(lambda x: unique_label[x],np.argmax(pred,axis=1)))\n",
    "submission=pd.read_csv('/kaggle/input/street-view-getting-started-with-julia/sampleSubmission.csv')\n",
    "\n",
    "submission['Class']=pred_label\n",
    "submission.to_csv('submission.csv',index=False)"
   ]
  }
 ],
 "metadata": {
  "kaggle": {
   "accelerator": "nvidiaTeslaT4",
   "dataSources": [
    {
     "databundleVersionId": 32615,
     "sourceId": 3947,
     "sourceType": "competition"
    }
   ],
   "dockerImageVersionId": 30626,
   "isGpuEnabled": true,
   "isInternetEnabled": true,
   "language": "python",
   "sourceType": "notebook"
  },
  "kernelspec": {
   "display_name": "Python 3",
   "language": "python",
   "name": "python3"
  },
  "language_info": {
   "codemirror_mode": {
    "name": "ipython",
    "version": 3
   },
   "file_extension": ".py",
   "mimetype": "text/x-python",
   "name": "python",
   "nbconvert_exporter": "python",
   "pygments_lexer": "ipython3",
   "version": "3.10.12"
  },
  "papermill": {
   "default_parameters": {},
   "duration": 183.596788,
   "end_time": "2023-12-19T13:55:41.397903",
   "environment_variables": {},
   "exception": null,
   "input_path": "__notebook__.ipynb",
   "output_path": "__notebook__.ipynb",
   "parameters": {},
   "start_time": "2023-12-19T13:52:37.801115",
   "version": "2.4.0"
  }
 },
 "nbformat": 4,
 "nbformat_minor": 5
}
